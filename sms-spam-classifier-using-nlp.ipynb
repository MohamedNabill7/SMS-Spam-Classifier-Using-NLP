{
 "cells": [
  {
   "cell_type": "code",
   "execution_count": 1,
   "id": "6abc70ab",
   "metadata": {
    "_cell_guid": "b1076dfc-b9ad-4769-8c92-a6c4dae69d19",
    "_kg_hide-output": true,
    "_uuid": "8f2839f25d086af736a60e9eeb907d3b93b6e0e5",
    "execution": {
     "iopub.execute_input": "2021-11-06T11:38:05.431158Z",
     "iopub.status.busy": "2021-11-06T11:38:05.429351Z",
     "iopub.status.idle": "2021-11-06T11:38:07.144323Z",
     "shell.execute_reply": "2021-11-06T11:38:07.144829Z",
     "shell.execute_reply.started": "2021-11-06T11:36:53.043251Z"
    },
    "papermill": {
     "duration": 1.739442,
     "end_time": "2021-11-06T11:38:07.145105",
     "exception": false,
     "start_time": "2021-11-06T11:38:05.405663",
     "status": "completed"
    },
    "tags": []
   },
   "outputs": [
    {
     "name": "stdout",
     "output_type": "stream",
     "text": [
      "[nltk_data] Downloading package stopwords to /usr/share/nltk_data...\n",
      "[nltk_data]   Package stopwords is already up-to-date!\n"
     ]
    },
    {
     "data": {
      "text/plain": [
       "True"
      ]
     },
     "execution_count": 1,
     "metadata": {},
     "output_type": "execute_result"
    }
   ],
   "source": [
    "import os\n",
    "import pandas as pd \n",
    "import seaborn as sns\n",
    "import re\n",
    "import nltk\n",
    "from nltk.corpus import stopwords\n",
    "from nltk.stem import WordNetLemmatizer \n",
    "from sklearn.feature_extraction.text import CountVectorizer\n",
    "from sklearn.model_selection import train_test_split\n",
    "from sklearn.naive_bayes import MultinomialNB\n",
    "from sklearn.metrics import confusion_matrix , accuracy_score , classification_report\n",
    "\n",
    "nltk.download('stopwords')"
   ]
  },
  {
   "cell_type": "code",
   "execution_count": 2,
   "id": "866f8aef",
   "metadata": {
    "_kg_hide-input": true,
    "execution": {
     "iopub.execute_input": "2021-11-06T11:38:07.188505Z",
     "iopub.status.busy": "2021-11-06T11:38:07.187519Z",
     "iopub.status.idle": "2021-11-06T11:38:07.201872Z",
     "shell.execute_reply": "2021-11-06T11:38:07.201376Z",
     "shell.execute_reply.started": "2021-11-06T11:36:55.009569Z"
    },
    "papermill": {
     "duration": 0.038302,
     "end_time": "2021-11-06T11:38:07.202011",
     "exception": false,
     "start_time": "2021-11-06T11:38:07.163709",
     "status": "completed"
    },
    "tags": []
   },
   "outputs": [
    {
     "name": "stdout",
     "output_type": "stream",
     "text": [
      "/kaggle/input/sms-spam-collection-dataset/spam.csv\n"
     ]
    }
   ],
   "source": [
    "for dirname, _, filenames in os.walk('/kaggle/input'):\n",
    "    for filename in filenames:\n",
    "        print(os.path.join(dirname, filename))"
   ]
  },
  {
   "cell_type": "code",
   "execution_count": 3,
   "id": "c3546e7f",
   "metadata": {
    "execution": {
     "iopub.execute_input": "2021-11-06T11:38:07.244950Z",
     "iopub.status.busy": "2021-11-06T11:38:07.244317Z",
     "iopub.status.idle": "2021-11-06T11:38:07.284668Z",
     "shell.execute_reply": "2021-11-06T11:38:07.285163Z",
     "shell.execute_reply.started": "2021-11-06T11:36:55.026259Z"
    },
    "papermill": {
     "duration": 0.064794,
     "end_time": "2021-11-06T11:38:07.285359",
     "exception": false,
     "start_time": "2021-11-06T11:38:07.220565",
     "status": "completed"
    },
    "tags": []
   },
   "outputs": [
    {
     "data": {
      "text/html": [
       "<div>\n",
       "<style scoped>\n",
       "    .dataframe tbody tr th:only-of-type {\n",
       "        vertical-align: middle;\n",
       "    }\n",
       "\n",
       "    .dataframe tbody tr th {\n",
       "        vertical-align: top;\n",
       "    }\n",
       "\n",
       "    .dataframe thead th {\n",
       "        text-align: right;\n",
       "    }\n",
       "</style>\n",
       "<table border=\"1\" class=\"dataframe\">\n",
       "  <thead>\n",
       "    <tr style=\"text-align: right;\">\n",
       "      <th></th>\n",
       "      <th>v1</th>\n",
       "      <th>v2</th>\n",
       "      <th>Unnamed: 2</th>\n",
       "      <th>Unnamed: 3</th>\n",
       "      <th>Unnamed: 4</th>\n",
       "    </tr>\n",
       "  </thead>\n",
       "  <tbody>\n",
       "    <tr>\n",
       "      <th>0</th>\n",
       "      <td>ham</td>\n",
       "      <td>Go until jurong point, crazy.. Available only ...</td>\n",
       "      <td>NaN</td>\n",
       "      <td>NaN</td>\n",
       "      <td>NaN</td>\n",
       "    </tr>\n",
       "    <tr>\n",
       "      <th>1</th>\n",
       "      <td>ham</td>\n",
       "      <td>Ok lar... Joking wif u oni...</td>\n",
       "      <td>NaN</td>\n",
       "      <td>NaN</td>\n",
       "      <td>NaN</td>\n",
       "    </tr>\n",
       "    <tr>\n",
       "      <th>2</th>\n",
       "      <td>spam</td>\n",
       "      <td>Free entry in 2 a wkly comp to win FA Cup fina...</td>\n",
       "      <td>NaN</td>\n",
       "      <td>NaN</td>\n",
       "      <td>NaN</td>\n",
       "    </tr>\n",
       "    <tr>\n",
       "      <th>3</th>\n",
       "      <td>ham</td>\n",
       "      <td>U dun say so early hor... U c already then say...</td>\n",
       "      <td>NaN</td>\n",
       "      <td>NaN</td>\n",
       "      <td>NaN</td>\n",
       "    </tr>\n",
       "    <tr>\n",
       "      <th>4</th>\n",
       "      <td>ham</td>\n",
       "      <td>Nah I don't think he goes to usf, he lives aro...</td>\n",
       "      <td>NaN</td>\n",
       "      <td>NaN</td>\n",
       "      <td>NaN</td>\n",
       "    </tr>\n",
       "  </tbody>\n",
       "</table>\n",
       "</div>"
      ],
      "text/plain": [
       "     v1                                                 v2 Unnamed: 2  \\\n",
       "0   ham  Go until jurong point, crazy.. Available only ...        NaN   \n",
       "1   ham                      Ok lar... Joking wif u oni...        NaN   \n",
       "2  spam  Free entry in 2 a wkly comp to win FA Cup fina...        NaN   \n",
       "3   ham  U dun say so early hor... U c already then say...        NaN   \n",
       "4   ham  Nah I don't think he goes to usf, he lives aro...        NaN   \n",
       "\n",
       "  Unnamed: 3 Unnamed: 4  \n",
       "0        NaN        NaN  \n",
       "1        NaN        NaN  \n",
       "2        NaN        NaN  \n",
       "3        NaN        NaN  \n",
       "4        NaN        NaN  "
      ]
     },
     "execution_count": 3,
     "metadata": {},
     "output_type": "execute_result"
    }
   ],
   "source": [
    "data = pd.read_csv('/kaggle/input/sms-spam-collection-dataset/spam.csv',encoding=\"ISO-8859-1\")\n",
    "data.head()"
   ]
  },
  {
   "cell_type": "code",
   "execution_count": 4,
   "id": "e7dc32f9",
   "metadata": {
    "execution": {
     "iopub.execute_input": "2021-11-06T11:38:07.327062Z",
     "iopub.status.busy": "2021-11-06T11:38:07.326471Z",
     "iopub.status.idle": "2021-11-06T11:38:07.330748Z",
     "shell.execute_reply": "2021-11-06T11:38:07.331353Z",
     "shell.execute_reply.started": "2021-11-06T11:36:55.077496Z"
    },
    "papermill": {
     "duration": 0.026918,
     "end_time": "2021-11-06T11:38:07.331520",
     "exception": false,
     "start_time": "2021-11-06T11:38:07.304602",
     "status": "completed"
    },
    "tags": []
   },
   "outputs": [
    {
     "data": {
      "text/plain": [
       "(5572, 5)"
      ]
     },
     "execution_count": 4,
     "metadata": {},
     "output_type": "execute_result"
    }
   ],
   "source": [
    "data.shape"
   ]
  },
  {
   "cell_type": "code",
   "execution_count": 5,
   "id": "3701b67d",
   "metadata": {
    "execution": {
     "iopub.execute_input": "2021-11-06T11:38:07.373108Z",
     "iopub.status.busy": "2021-11-06T11:38:07.372510Z",
     "iopub.status.idle": "2021-11-06T11:38:07.393776Z",
     "shell.execute_reply": "2021-11-06T11:38:07.394370Z",
     "shell.execute_reply.started": "2021-11-06T11:36:55.084570Z"
    },
    "papermill": {
     "duration": 0.043674,
     "end_time": "2021-11-06T11:38:07.394553",
     "exception": false,
     "start_time": "2021-11-06T11:38:07.350879",
     "status": "completed"
    },
    "tags": []
   },
   "outputs": [
    {
     "name": "stdout",
     "output_type": "stream",
     "text": [
      "<class 'pandas.core.frame.DataFrame'>\n",
      "RangeIndex: 5572 entries, 0 to 5571\n",
      "Data columns (total 5 columns):\n",
      " #   Column      Non-Null Count  Dtype \n",
      "---  ------      --------------  ----- \n",
      " 0   v1          5572 non-null   object\n",
      " 1   v2          5572 non-null   object\n",
      " 2   Unnamed: 2  50 non-null     object\n",
      " 3   Unnamed: 3  12 non-null     object\n",
      " 4   Unnamed: 4  6 non-null      object\n",
      "dtypes: object(5)\n",
      "memory usage: 217.8+ KB\n"
     ]
    }
   ],
   "source": [
    "data.info()"
   ]
  },
  {
   "cell_type": "code",
   "execution_count": 6,
   "id": "c939b2b7",
   "metadata": {
    "execution": {
     "iopub.execute_input": "2021-11-06T11:38:07.446731Z",
     "iopub.status.busy": "2021-11-06T11:38:07.443671Z",
     "iopub.status.idle": "2021-11-06T11:38:07.449804Z",
     "shell.execute_reply": "2021-11-06T11:38:07.450350Z",
     "shell.execute_reply.started": "2021-11-06T11:36:55.117171Z"
    },
    "papermill": {
     "duration": 0.036121,
     "end_time": "2021-11-06T11:38:07.450520",
     "exception": false,
     "start_time": "2021-11-06T11:38:07.414399",
     "status": "completed"
    },
    "tags": []
   },
   "outputs": [
    {
     "data": {
      "text/html": [
       "<div>\n",
       "<style scoped>\n",
       "    .dataframe tbody tr th:only-of-type {\n",
       "        vertical-align: middle;\n",
       "    }\n",
       "\n",
       "    .dataframe tbody tr th {\n",
       "        vertical-align: top;\n",
       "    }\n",
       "\n",
       "    .dataframe thead th {\n",
       "        text-align: right;\n",
       "    }\n",
       "</style>\n",
       "<table border=\"1\" class=\"dataframe\">\n",
       "  <thead>\n",
       "    <tr style=\"text-align: right;\">\n",
       "      <th></th>\n",
       "      <th>text</th>\n",
       "      <th>target</th>\n",
       "    </tr>\n",
       "  </thead>\n",
       "  <tbody>\n",
       "    <tr>\n",
       "      <th>0</th>\n",
       "      <td>Go until jurong point, crazy.. Available only ...</td>\n",
       "      <td>ham</td>\n",
       "    </tr>\n",
       "    <tr>\n",
       "      <th>1</th>\n",
       "      <td>Ok lar... Joking wif u oni...</td>\n",
       "      <td>ham</td>\n",
       "    </tr>\n",
       "    <tr>\n",
       "      <th>2</th>\n",
       "      <td>Free entry in 2 a wkly comp to win FA Cup fina...</td>\n",
       "      <td>spam</td>\n",
       "    </tr>\n",
       "    <tr>\n",
       "      <th>3</th>\n",
       "      <td>U dun say so early hor... U c already then say...</td>\n",
       "      <td>ham</td>\n",
       "    </tr>\n",
       "    <tr>\n",
       "      <th>4</th>\n",
       "      <td>Nah I don't think he goes to usf, he lives aro...</td>\n",
       "      <td>ham</td>\n",
       "    </tr>\n",
       "    <tr>\n",
       "      <th>...</th>\n",
       "      <td>...</td>\n",
       "      <td>...</td>\n",
       "    </tr>\n",
       "    <tr>\n",
       "      <th>5567</th>\n",
       "      <td>This is the 2nd time we have tried 2 contact u...</td>\n",
       "      <td>spam</td>\n",
       "    </tr>\n",
       "    <tr>\n",
       "      <th>5568</th>\n",
       "      <td>Will Ì_ b going to esplanade fr home?</td>\n",
       "      <td>ham</td>\n",
       "    </tr>\n",
       "    <tr>\n",
       "      <th>5569</th>\n",
       "      <td>Pity, * was in mood for that. So...any other s...</td>\n",
       "      <td>ham</td>\n",
       "    </tr>\n",
       "    <tr>\n",
       "      <th>5570</th>\n",
       "      <td>The guy did some bitching but I acted like i'd...</td>\n",
       "      <td>ham</td>\n",
       "    </tr>\n",
       "    <tr>\n",
       "      <th>5571</th>\n",
       "      <td>Rofl. Its true to its name</td>\n",
       "      <td>ham</td>\n",
       "    </tr>\n",
       "  </tbody>\n",
       "</table>\n",
       "<p>5572 rows × 2 columns</p>\n",
       "</div>"
      ],
      "text/plain": [
       "                                                   text target\n",
       "0     Go until jurong point, crazy.. Available only ...    ham\n",
       "1                         Ok lar... Joking wif u oni...    ham\n",
       "2     Free entry in 2 a wkly comp to win FA Cup fina...   spam\n",
       "3     U dun say so early hor... U c already then say...    ham\n",
       "4     Nah I don't think he goes to usf, he lives aro...    ham\n",
       "...                                                 ...    ...\n",
       "5567  This is the 2nd time we have tried 2 contact u...   spam\n",
       "5568              Will Ì_ b going to esplanade fr home?    ham\n",
       "5569  Pity, * was in mood for that. So...any other s...    ham\n",
       "5570  The guy did some bitching but I acted like i'd...    ham\n",
       "5571                         Rofl. Its true to its name    ham\n",
       "\n",
       "[5572 rows x 2 columns]"
      ]
     },
     "execution_count": 6,
     "metadata": {},
     "output_type": "execute_result"
    }
   ],
   "source": [
    "message = data['v2']\n",
    "target = data['v1']\n",
    "\n",
    "data = pd.DataFrame({'text':message,'target':target})\n",
    "data"
   ]
  },
  {
   "cell_type": "code",
   "execution_count": 7,
   "id": "f487831b",
   "metadata": {
    "execution": {
     "iopub.execute_input": "2021-11-06T11:38:07.493859Z",
     "iopub.status.busy": "2021-11-06T11:38:07.493250Z",
     "iopub.status.idle": "2021-11-06T11:38:07.500684Z",
     "shell.execute_reply": "2021-11-06T11:38:07.501301Z",
     "shell.execute_reply.started": "2021-11-06T11:36:55.132950Z"
    },
    "papermill": {
     "duration": 0.03064,
     "end_time": "2021-11-06T11:38:07.501472",
     "exception": false,
     "start_time": "2021-11-06T11:38:07.470832",
     "status": "completed"
    },
    "tags": []
   },
   "outputs": [
    {
     "data": {
      "text/plain": [
       "ham     4825\n",
       "spam     747\n",
       "Name: target, dtype: int64"
      ]
     },
     "execution_count": 7,
     "metadata": {},
     "output_type": "execute_result"
    }
   ],
   "source": [
    "data['target'].value_counts()"
   ]
  },
  {
   "cell_type": "code",
   "execution_count": 8,
   "id": "a8cc1816",
   "metadata": {
    "execution": {
     "iopub.execute_input": "2021-11-06T11:38:07.545580Z",
     "iopub.status.busy": "2021-11-06T11:38:07.544945Z",
     "iopub.status.idle": "2021-11-06T11:38:07.753389Z",
     "shell.execute_reply": "2021-11-06T11:38:07.753915Z",
     "shell.execute_reply.started": "2021-11-06T11:36:55.142940Z"
    },
    "papermill": {
     "duration": 0.231949,
     "end_time": "2021-11-06T11:38:07.754086",
     "exception": false,
     "start_time": "2021-11-06T11:38:07.522137",
     "status": "completed"
    },
    "tags": []
   },
   "outputs": [
    {
     "data": {
      "text/plain": [
       "<AxesSubplot:xlabel='target', ylabel='count'>"
      ]
     },
     "execution_count": 8,
     "metadata": {},
     "output_type": "execute_result"
    },
    {
     "data": {
      "image/png": "[encoded data removed]",
      "text/plain": [
       "<Figure size 432x288 with 1 Axes>"
      ]
     },
     "metadata": {
      "needs_background": "light"
     },
     "output_type": "display_data"
    }
   ],
   "source": [
    "sns.countplot(x=data['target'])"
   ]
  },
  {
   "cell_type": "code",
   "execution_count": 9,
   "id": "6911e8bc",
   "metadata": {
    "execution": {
     "iopub.execute_input": "2021-11-06T11:38:07.804303Z",
     "iopub.status.busy": "2021-11-06T11:38:07.803622Z",
     "iopub.status.idle": "2021-11-06T11:38:07.804864Z",
     "shell.execute_reply": "2021-11-06T11:38:07.805475Z",
     "shell.execute_reply.started": "2021-11-06T11:36:55.377270Z"
    },
    "papermill": {
     "duration": 0.029923,
     "end_time": "2021-11-06T11:38:07.805643",
     "exception": false,
     "start_time": "2021-11-06T11:38:07.775720",
     "status": "completed"
    },
    "tags": []
   },
   "outputs": [],
   "source": [
    "def process(sentence):\n",
    "    text = re.sub('[^\\w]+',' ',sentence).split()\n",
    "    words = [x.lower() for x in text if x not in stopwords.words('english')]\n",
    "    \n",
    "    lemma = WordNetLemmatizer()\n",
    "    word = [lemma.lemmatize(word,'v') for word in words ]\n",
    "    word = ' '.join(word)\n",
    "    return word"
   ]
  },
  {
   "cell_type": "code",
   "execution_count": 10,
   "id": "481cf718",
   "metadata": {
    "execution": {
     "iopub.execute_input": "2021-11-06T11:38:07.851807Z",
     "iopub.status.busy": "2021-11-06T11:38:07.851192Z",
     "iopub.status.idle": "2021-11-06T11:38:22.111677Z",
     "shell.execute_reply": "2021-11-06T11:38:22.110918Z",
     "shell.execute_reply.started": "2021-11-06T11:36:55.386358Z"
    },
    "papermill": {
     "duration": 14.284593,
     "end_time": "2021-11-06T11:38:22.111843",
     "exception": false,
     "start_time": "2021-11-06T11:38:07.827250",
     "status": "completed"
    },
    "tags": []
   },
   "outputs": [],
   "source": [
    "data['text'] = data['text'].apply(process)"
   ]
  },
  {
   "cell_type": "code",
   "execution_count": 11,
   "id": "f4579312",
   "metadata": {
    "execution": {
     "iopub.execute_input": "2021-11-06T11:38:22.165045Z",
     "iopub.status.busy": "2021-11-06T11:38:22.164266Z",
     "iopub.status.idle": "2021-11-06T11:38:22.167490Z",
     "shell.execute_reply": "2021-11-06T11:38:22.167990Z",
     "shell.execute_reply.started": "2021-11-06T11:37:09.649632Z"
    },
    "papermill": {
     "duration": 0.03438,
     "end_time": "2021-11-06T11:38:22.168196",
     "exception": false,
     "start_time": "2021-11-06T11:38:22.133816",
     "status": "completed"
    },
    "tags": []
   },
   "outputs": [
    {
     "data": {
      "text/html": [
       "<div>\n",
       "<style scoped>\n",
       "    .dataframe tbody tr th:only-of-type {\n",
       "        vertical-align: middle;\n",
       "    }\n",
       "\n",
       "    .dataframe tbody tr th {\n",
       "        vertical-align: top;\n",
       "    }\n",
       "\n",
       "    .dataframe thead th {\n",
       "        text-align: right;\n",
       "    }\n",
       "</style>\n",
       "<table border=\"1\" class=\"dataframe\">\n",
       "  <thead>\n",
       "    <tr style=\"text-align: right;\">\n",
       "      <th></th>\n",
       "      <th>text</th>\n",
       "      <th>target</th>\n",
       "    </tr>\n",
       "  </thead>\n",
       "  <tbody>\n",
       "    <tr>\n",
       "      <th>0</th>\n",
       "      <td>go jurong point crazy available bugis n great ...</td>\n",
       "      <td>ham</td>\n",
       "    </tr>\n",
       "    <tr>\n",
       "      <th>1</th>\n",
       "      <td>ok lar joke wif u oni</td>\n",
       "      <td>ham</td>\n",
       "    </tr>\n",
       "    <tr>\n",
       "      <th>2</th>\n",
       "      <td>free entry 2 wkly comp win fa cup final tkts 2...</td>\n",
       "      <td>spam</td>\n",
       "    </tr>\n",
       "    <tr>\n",
       "      <th>3</th>\n",
       "      <td>u dun say early hor u c already say</td>\n",
       "      <td>ham</td>\n",
       "    </tr>\n",
       "    <tr>\n",
       "      <th>4</th>\n",
       "      <td>nah i think go usf live around though</td>\n",
       "      <td>ham</td>\n",
       "    </tr>\n",
       "  </tbody>\n",
       "</table>\n",
       "</div>"
      ],
      "text/plain": [
       "                                                text target\n",
       "0  go jurong point crazy available bugis n great ...    ham\n",
       "1                              ok lar joke wif u oni    ham\n",
       "2  free entry 2 wkly comp win fa cup final tkts 2...   spam\n",
       "3                u dun say early hor u c already say    ham\n",
       "4              nah i think go usf live around though    ham"
      ]
     },
     "execution_count": 11,
     "metadata": {},
     "output_type": "execute_result"
    }
   ],
   "source": [
    "data.head()"
   ]
  },
  {
   "cell_type": "code",
   "execution_count": 12,
   "id": "ee4ac990",
   "metadata": {
    "execution": {
     "iopub.execute_input": "2021-11-06T11:38:22.289216Z",
     "iopub.status.busy": "2021-11-06T11:38:22.252755Z",
     "iopub.status.idle": "2021-11-06T11:38:22.334780Z",
     "shell.execute_reply": "2021-11-06T11:38:22.334283Z",
     "shell.execute_reply.started": "2021-11-06T11:37:09.660626Z"
    },
    "papermill": {
     "duration": 0.144712,
     "end_time": "2021-11-06T11:38:22.334919",
     "exception": false,
     "start_time": "2021-11-06T11:38:22.190207",
     "status": "completed"
    },
    "tags": []
   },
   "outputs": [
    {
     "data": {
      "text/plain": [
       "(5572, 5000)"
      ]
     },
     "execution_count": 12,
     "metadata": {},
     "output_type": "execute_result"
    }
   ],
   "source": [
    "vectorizer = CountVectorizer(max_features=5000)\n",
    "X = vectorizer.fit_transform(data['text'])\n",
    "X.shape"
   ]
  },
  {
   "cell_type": "code",
   "execution_count": 13,
   "id": "e6c7d3aa",
   "metadata": {
    "execution": {
     "iopub.execute_input": "2021-11-06T11:38:22.385927Z",
     "iopub.status.busy": "2021-11-06T11:38:22.385283Z",
     "iopub.status.idle": "2021-11-06T11:38:22.460181Z",
     "shell.execute_reply": "2021-11-06T11:38:22.459627Z",
     "shell.execute_reply.started": "2021-11-06T11:37:09.793356Z"
    },
    "papermill": {
     "duration": 0.10287,
     "end_time": "2021-11-06T11:38:22.460330",
     "exception": false,
     "start_time": "2021-11-06T11:38:22.357460",
     "status": "completed"
    },
    "tags": []
   },
   "outputs": [
    {
     "data": {
      "text/plain": [
       "array([[0, 0, 0, ..., 0, 0, 0],\n",
       "       [0, 0, 0, ..., 0, 0, 0],\n",
       "       [0, 0, 0, ..., 0, 0, 0],\n",
       "       ...,\n",
       "       [0, 0, 0, ..., 0, 0, 0],\n",
       "       [0, 0, 0, ..., 0, 0, 0],\n",
       "       [0, 0, 0, ..., 0, 0, 0]])"
      ]
     },
     "execution_count": 13,
     "metadata": {},
     "output_type": "execute_result"
    }
   ],
   "source": [
    "X.toarray()"
   ]
  },
  {
   "cell_type": "code",
   "execution_count": 14,
   "id": "b2918957",
   "metadata": {
    "execution": {
     "iopub.execute_input": "2021-11-06T11:38:22.511088Z",
     "iopub.status.busy": "2021-11-06T11:38:22.510441Z",
     "iopub.status.idle": "2021-11-06T11:38:22.517960Z",
     "shell.execute_reply": "2021-11-06T11:38:22.517405Z",
     "shell.execute_reply.started": "2021-11-06T11:37:09.875994Z"
    },
    "papermill": {
     "duration": 0.035111,
     "end_time": "2021-11-06T11:38:22.518099",
     "exception": false,
     "start_time": "2021-11-06T11:38:22.482988",
     "status": "completed"
    },
    "tags": []
   },
   "outputs": [
    {
     "data": {
      "text/plain": [
       "0       0\n",
       "1       0\n",
       "2       1\n",
       "3       0\n",
       "4       0\n",
       "       ..\n",
       "5567    1\n",
       "5568    0\n",
       "5569    0\n",
       "5570    0\n",
       "5571    0\n",
       "Name: spam, Length: 5572, dtype: uint8"
      ]
     },
     "execution_count": 14,
     "metadata": {},
     "output_type": "execute_result"
    }
   ],
   "source": [
    "y = pd.get_dummies(data['target'])\n",
    "y = y.iloc[:,1]\n",
    "y"
   ]
  },
  {
   "cell_type": "code",
   "execution_count": 15,
   "id": "1d3d0663",
   "metadata": {
    "execution": {
     "iopub.execute_input": "2021-11-06T11:38:22.571546Z",
     "iopub.status.busy": "2021-11-06T11:38:22.570878Z",
     "iopub.status.idle": "2021-11-06T11:38:22.577818Z",
     "shell.execute_reply": "2021-11-06T11:38:22.578320Z",
     "shell.execute_reply.started": "2021-11-06T11:37:09.887942Z"
    },
    "papermill": {
     "duration": 0.037326,
     "end_time": "2021-11-06T11:38:22.578502",
     "exception": false,
     "start_time": "2021-11-06T11:38:22.541176",
     "status": "completed"
    },
    "tags": []
   },
   "outputs": [
    {
     "name": "stdout",
     "output_type": "stream",
     "text": [
      "Train Shape : (4457, 5000) (4457,)\n",
      "Test Shape : (1115, 5000) (1115,)\n"
     ]
    }
   ],
   "source": [
    "X_train , X_test , y_train , y_test = train_test_split(X,y,test_size=.2,random_state=42)\n",
    "print(f\"Train Shape : {X_train.shape} {y_train.shape}\")\n",
    "print(f\"Test Shape : {X_test.shape} {y_test.shape}\")"
   ]
  },
  {
   "cell_type": "code",
   "execution_count": 16,
   "id": "a0bf2740",
   "metadata": {
    "execution": {
     "iopub.execute_input": "2021-11-06T11:38:22.631001Z",
     "iopub.status.busy": "2021-11-06T11:38:22.630364Z",
     "iopub.status.idle": "2021-11-06T11:38:22.638408Z",
     "shell.execute_reply": "2021-11-06T11:38:22.637798Z",
     "shell.execute_reply.started": "2021-11-06T11:37:09.901562Z"
    },
    "papermill": {
     "duration": 0.036679,
     "end_time": "2021-11-06T11:38:22.638547",
     "exception": false,
     "start_time": "2021-11-06T11:38:22.601868",
     "status": "completed"
    },
    "tags": []
   },
   "outputs": [
    {
     "data": {
      "text/plain": [
       "MultinomialNB()"
      ]
     },
     "execution_count": 16,
     "metadata": {},
     "output_type": "execute_result"
    }
   ],
   "source": [
    "Mnb = MultinomialNB()\n",
    "Mnb.fit(X_train,y_train)"
   ]
  },
  {
   "cell_type": "code",
   "execution_count": 17,
   "id": "cec19623",
   "metadata": {
    "execution": {
     "iopub.execute_input": "2021-11-06T11:38:22.691489Z",
     "iopub.status.busy": "2021-11-06T11:38:22.689611Z",
     "iopub.status.idle": "2021-11-06T11:38:22.695075Z",
     "shell.execute_reply": "2021-11-06T11:38:22.694519Z",
     "shell.execute_reply.started": "2021-11-06T11:37:09.914708Z"
    },
    "papermill": {
     "duration": 0.033115,
     "end_time": "2021-11-06T11:38:22.695229",
     "exception": false,
     "start_time": "2021-11-06T11:38:22.662114",
     "status": "completed"
    },
    "tags": []
   },
   "outputs": [
    {
     "data": {
      "text/plain": [
       "array([0, 0, 1, ..., 0, 0, 1], dtype=uint8)"
      ]
     },
     "execution_count": 17,
     "metadata": {},
     "output_type": "execute_result"
    }
   ],
   "source": [
    "y_pred = Mnb.predict(X_test)\n",
    "y_pred"
   ]
  },
  {
   "cell_type": "code",
   "execution_count": 18,
   "id": "d1ccb208",
   "metadata": {
    "execution": {
     "iopub.execute_input": "2021-11-06T11:38:22.748082Z",
     "iopub.status.busy": "2021-11-06T11:38:22.747044Z",
     "iopub.status.idle": "2021-11-06T11:38:22.985810Z",
     "shell.execute_reply": "2021-11-06T11:38:22.985270Z",
     "shell.execute_reply.started": "2021-11-06T11:37:09.921964Z"
    },
    "papermill": {
     "duration": 0.266667,
     "end_time": "2021-11-06T11:38:22.985953",
     "exception": false,
     "start_time": "2021-11-06T11:38:22.719286",
     "status": "completed"
    },
    "tags": []
   },
   "outputs": [
    {
     "data": {
      "text/plain": [
       "<AxesSubplot:>"
      ]
     },
     "execution_count": 18,
     "metadata": {},
     "output_type": "execute_result"
    },
    {
     "data": {
      "image/png": "[encoded data removed]",
      "text/plain": [
       "<Figure size 432x288 with 2 Axes>"
      ]
     },
     "metadata": {
      "needs_background": "light"
     },
     "output_type": "display_data"
    }
   ],
   "source": [
    "sns.heatmap(confusion_matrix(y_test,y_pred),annot=True)"
   ]
  },
  {
   "cell_type": "code",
   "execution_count": 19,
   "id": "8325f15a",
   "metadata": {
    "execution": {
     "iopub.execute_input": "2021-11-06T11:38:23.042634Z",
     "iopub.status.busy": "2021-11-06T11:38:23.041740Z",
     "iopub.status.idle": "2021-11-06T11:38:23.046344Z",
     "shell.execute_reply": "2021-11-06T11:38:23.046810Z",
     "shell.execute_reply.started": "2021-11-06T11:37:10.163062Z"
    },
    "papermill": {
     "duration": 0.035179,
     "end_time": "2021-11-06T11:38:23.046985",
     "exception": false,
     "start_time": "2021-11-06T11:38:23.011806",
     "status": "completed"
    },
    "tags": []
   },
   "outputs": [
    {
     "name": "stdout",
     "output_type": "stream",
     "text": [
      "Accuarcy is : 0.9838565022421525\n"
     ]
    }
   ],
   "source": [
    "print(f'Accuarcy is : {accuracy_score(y_test,y_pred)}')"
   ]
  },
  {
   "cell_type": "code",
   "execution_count": 20,
   "id": "41a90485",
   "metadata": {
    "execution": {
     "iopub.execute_input": "2021-11-06T11:38:23.100962Z",
     "iopub.status.busy": "2021-11-06T11:38:23.099986Z",
     "iopub.status.idle": "2021-11-06T11:38:23.110106Z",
     "shell.execute_reply": "2021-11-06T11:38:23.110612Z",
     "shell.execute_reply.started": "2021-11-06T11:37:37.185828Z"
    },
    "papermill": {
     "duration": 0.038586,
     "end_time": "2021-11-06T11:38:23.110796",
     "exception": false,
     "start_time": "2021-11-06T11:38:23.072210",
     "status": "completed"
    },
    "tags": []
   },
   "outputs": [
    {
     "name": "stdout",
     "output_type": "stream",
     "text": [
      "              precision    recall  f1-score   support\n",
      "\n",
      "           0       0.99      0.99      0.99       965\n",
      "           1       0.96      0.92      0.94       150\n",
      "\n",
      "    accuracy                           0.98      1115\n",
      "   macro avg       0.97      0.96      0.96      1115\n",
      "weighted avg       0.98      0.98      0.98      1115\n",
      "\n"
     ]
    }
   ],
   "source": [
    "print(classification_report(y_test,y_pred))"
   ]
  },
  {
   "cell_type": "code",
   "execution_count": null,
   "id": "34430426",
   "metadata": {
    "papermill": {
     "duration": 0.026033,
     "end_time": "2021-11-06T11:38:23.162528",
     "exception": false,
     "start_time": "2021-11-06T11:38:23.136495",
     "status": "completed"
    },
    "tags": []
   },
   "outputs": [],
   "source": []
  }
 ],
 "metadata": {
  "kernelspec": {
   "display_name": "Python 3",
   "language": "python",
   "name": "python3"
  },
  "language_info": {
   "codemirror_mode": {
    "name": "ipython",
    "version": 3
   },
   "file_extension": ".py",
   "mimetype": "text/x-python",
   "name": "python",
   "nbconvert_exporter": "python",
   "pygments_lexer": "ipython3",
   "version": "3.7.10"
  },
  "papermill": {
   "default_parameters": {},
   "duration": 27.39779,
   "end_time": "2021-11-06T11:38:24.098448",
   "environment_variables": {},
   "exception": null,
   "input_path": "__notebook__.ipynb",
   "output_path": "__notebook__.ipynb",
   "parameters": {},
   "start_time": "2021-11-06T11:37:56.700658",
   "version": "2.3.3"
  }
 },
 "nbformat": 4,
 "nbformat_minor": 5
}
